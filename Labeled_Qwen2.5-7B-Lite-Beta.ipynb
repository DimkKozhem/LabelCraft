{
 "cells": [
  {
   "cell_type": "code",
   "execution_count": null,
   "metadata": {},
   "outputs": [],
   "source": [
    "%load_ext fireducks.pandas\n",
    "from openai import OpenAI\n",
    "import pandas as pd\n",
    "import numpy as np\n",
    "from typing import List, Optional\n",
    "import re\n",
    "import json\n",
    "from openai import OpenAI\n",
    "import time\n",
    "from tqdm.auto import tqdm\n",
    "tqdm.pandas()"
   ]
  },
  {
   "cell_type": "code",
   "execution_count": null,
   "metadata": {},
   "outputs": [],
   "source": [
    "categor = pd.read_csv('category_tree.csv')\n",
    "labeled_train = pd.read_parquet('unlabeled_train.parquet')\n",
    "labeled_train.shape"
   ]
  },
  {
   "cell_type": "code",
   "execution_count": null,
   "metadata": {},
   "outputs": [],
   "source": [
    "categor = pd.read_csv('category_tree.csv')"
   ]
  },
  {
   "cell_type": "code",
   "execution_count": null,
   "metadata": {},
   "outputs": [],
   "source": [
    "def json_to_description(json_str):\n",
    "\n",
    "    if not isinstance(json_str, str):\n",
    "        return \"\"\n",
    "    \n",
    "    if not json_str.strip():\n",
    "        return \"\"\n",
    "        \n",
    "    try:\n",
    "        # Предварительная очистка строки\n",
    "        json_str = json_str.strip()\n",
    "        json_str = re.sub(r'\"{2}', '\"', json_str)\n",
    "        json_str = re.sub(r'\\\\{5}\\'', '\"', json_str)  # \\\\\\\\\\' -> \"\n",
    "        json_str = re.sub(r'\\\\{3}\\'', '\"', json_str)  # \\\\\\' -> \"\n",
    "        json_str = re.sub(r'\\\\\\'', '\"', json_str)     # \\' -> \"\n",
    "        json_str = re.sub(r'^\"(.+)\\'$', r'\\1', json_str)\n",
    "\n",
    "        attributes = json.loads(json_str)\n",
    "        \n",
    "            \n",
    "        description: List[str] = []\n",
    "        \n",
    "        for item in attributes:\n",
    "            if not isinstance(item, dict):\n",
    "                continue\n",
    "                \n",
    "            name = item.get(\"attribute_name\")\n",
    "            value = item.get(\"attribute_value\", \"\")\n",
    "            \n",
    "            if name:  # Добавляем только если есть название атрибута\n",
    "                description.append(f\"{name}: {value}\")\n",
    "        \n",
    "        return \" \".join(description)\n",
    "        \n",
    "    except json.JSONDecodeError as e:\n",
    "        return \"\"\n",
    "    except Exception as e:\n",
    "        return \"\"\n",
    "\n",
    "\n",
    "# Функция для объединения Title и Description\n",
    "def combine_title_description(row):\n",
    "    title = row[\"source_name\"]\n",
    "    description = row[\"description\"]\n",
    "    combined_text = f\"{title} {description}\"\n",
    "    return combined_text"
   ]
  },
  {
   "cell_type": "code",
   "execution_count": null,
   "metadata": {},
   "outputs": [],
   "source": [
    "labeled_train[\"description\"] = labeled_train[\"attributes\"].progress_apply(json_to_description)\n",
    "labeled_train[\"combined_text\"] = labeled_train.progress_apply(combine_title_description, axis=1)"
   ]
  },
  {
   "cell_type": "code",
   "execution_count": null,
   "metadata": {},
   "outputs": [],
   "source": [
    "# Загрузка предыдущего прогресса, если есть\n",
    "try:\n",
    "    df_save = pd.read_csv('unLabel_Qwen2.5-7B.csv')\n",
    "except FileNotFoundError:\n",
    "    df_save = pd.DataFrame(columns=['hash_id', 'name', 'category_id'])\n",
    "df_save.shape"
   ]
  },
  {
   "cell_type": "code",
   "execution_count": null,
   "metadata": {},
   "outputs": [],
   "source": [
    "client = OpenAI(\n",
    "    base_url=\"http://localhost:8000/v1\",\n",
    "    api_key=\"no-api-key-required\"\n",
    ")\n",
    "\n",
    "start_categor = categor[categor['parent_id'].isna()]['cat_name'].tolist()\n",
    "categor_dict = categor.groupby('parent_id')['cat_name'].apply(list).to_dict()\n",
    "combined_texts = labeled_train['combined_text'].tolist()\n",
    "source_name = labeled_train[\"source_name\"].tolist()\n",
    "hash_id = labeled_train[\"hash_id\"].tolist()\n",
    "\n",
    "cat_id_pred = []\n",
    "\n",
    "\n",
    "\n",
    "start_index = df_save.shape[0]\n",
    "count = 0\n",
    "\n",
    "for text, name, hash_id in tqdm(\n",
    "                                zip(combined_texts[start_index:], source_name[start_index:], hash_id[start_index:]), \n",
    "                                total=len(combined_texts[start_index:])):\n",
    "    flag = True\n",
    "    count += 1\n",
    "    name = text\n",
    "    current_parent = None  # Сбрасываем для каждого товара\n",
    "    lst = \"\\n - \".join(start_categor)  # Начинаем с корневых категорий\n",
    "    cat = ''\n",
    "    while flag:\n",
    "        try:\n",
    "            response = client.chat.completions.create(\n",
    "                model=\"Qwen/Qwen2.5-7B-Instruct\",\n",
    "                messages = [\n",
    "                    {\n",
    "                        \"role\": \"system\",\n",
    "                        \"content\": (\n",
    "                            \"Ты полезный помощник по определению категории товара и списка категорий, который строго следует инструкции\"\n",
    "                        )\n",
    "                    },\n",
    "                    {\n",
    "                        \"role\": \"user\",\n",
    "                        \"content\": (\n",
    "                            f\"Товар '{text}'. \"\n",
    "                            f\"Текущая категория: {cat}. \"\n",
    "                            f\"Выбери наиболее подходящую подкатегорию из списка: {lst} для товара {text}. \\n\"\n",
    "                            \"Ответ должен быть строго только названием категории без лишних слов. \"\n",
    "                            f\"Ты всегда должен выбрать из списка {lst} наиболее релевантную категорию.\"\n",
    "                        )\n",
    "                    }\n",
    "                ],\n",
    "                max_tokens=100,\n",
    "                temperature=0.2\n",
    "            )\n",
    "\n",
    "            answer = response.choices[0].message.content.strip('.')\n",
    "            cat = f'{cat}/{answer}' \n",
    "        except Exception as e:\n",
    "            print(f\"Ошибка: {e}\")\n",
    "            cat_id_pred.append(None)  # Сохраняем None при ошибке\n",
    "            break\n",
    "\n",
    "        try:\n",
    "            # Поиск категории в текущем уровне\n",
    "            if current_parent is not None:\n",
    "                mask = (categor['cat_name'] == answer) & (categor['parent_id'] == current_parent)\n",
    "            else:\n",
    "                mask = (categor['cat_name'] == answer) & (categor['parent_id'].isna())\n",
    "            \n",
    "            category = categor.loc[mask]\n",
    "            if category.empty:\n",
    "                raise IndexError(\"Категория не найдена\")\n",
    "            \n",
    "            current_parent = category['cat_id'].iloc[0]\n",
    "\n",
    "            # Проверяем наличие подкатегорий\n",
    "            subcategories = categor_dict.get(current_parent, [])\n",
    "            if subcategories:\n",
    "                lst = \",\\n \".join(subcategories)\n",
    "            else:\n",
    "                flag = False\n",
    "                cat_id_pred.append([hash_id, name, current_parent])\n",
    "                \n",
    "        except Exception as e:\n",
    "            cat_id_pred.append([hash_id, name, current_parent if current_parent else np.nan])\n",
    "            flag = False\n",
    "\n",
    "    # Сохранение\n",
    "    if count % 10 == 0:\n",
    "        df_save = pd.concat([df_save, pd.DataFrame(cat_id_pred, columns=['hash_id', 'name', 'category_id'])])\n",
    "        df_save.to_csv('unLabel_Qwen2.5-7B.csv', index=False, na_rep='NaN')\n",
    "        cat_id_pred = []\n",
    "    if count % 1000 == 0:\n",
    "        print(df_save.shape)\n",
    "\n",
    "# Сохраняем оставшиеся данные\n",
    "if cat_id_pred:\n",
    "    df_save = pd.concat([df_save, pd.DataFrame(cat_id_pred, columns=['category_id'])])\n",
    "    df_save.to_csv('unLabel_Qwen2.5-7B.csv', index=False, na_rep='NaN')"
   ]
  }
 ],
 "metadata": {
  "kernelspec": {
   "display_name": "Python 3 (ipykernel)",
   "language": "python",
   "name": "python3"
  },
  "language_info": {
   "codemirror_mode": {
    "name": "ipython",
    "version": 3
   },
   "file_extension": ".py",
   "mimetype": "text/x-python",
   "name": "python",
   "nbconvert_exporter": "python",
   "pygments_lexer": "ipython3",
   "version": "3.10.16"
  },
  "widgets": {
   "application/vnd.jupyter.widget-state+json": {
    "state": {
     "0691597e86f4485cb5c68b9b2070a852": {
      "model_module": "@jupyter-widgets/base",
      "model_module_version": "2.0.0",
      "model_name": "LayoutModel",
      "state": {}
     },
     "0a29f07878e6459ea23dc29e43bd8462": {
      "model_module": "@jupyter-widgets/controls",
      "model_module_version": "2.0.0",
      "model_name": "ProgressStyleModel",
      "state": {
       "description_width": ""
      }
     },
     "11b7ae3e7acf4141b4bb6ac5355de3b1": {
      "model_module": "@jupyter-widgets/controls",
      "model_module_version": "2.0.0",
      "model_name": "HTMLModel",
      "state": {
       "layout": "IPY_MODEL_e4cd93f46b6c4f889b579c2c54b30ebd",
       "style": "IPY_MODEL_b60183230e9f4be9b4a1abfc8722225c",
       "value": "  0%"
      }
     },
     "13bcc0e932554871a4a51ce6958fcbcd": {
      "model_module": "@jupyter-widgets/controls",
      "model_module_version": "2.0.0",
      "model_name": "HTMLModel",
      "state": {
       "layout": "IPY_MODEL_5c6d95f5b6a04cc696f9214cca66f145",
       "style": "IPY_MODEL_b7f594ea10b44116b4a4f1083a1a9dc4",
       "value": " 0/200 [00:02&lt;?, ?it/s]"
      }
     },
     "14093f679d3b48558eb888d408a683c9": {
      "model_module": "@jupyter-widgets/controls",
      "model_module_version": "2.0.0",
      "model_name": "HTMLModel",
      "state": {
       "layout": "IPY_MODEL_d004f693c2ee43d582d99e1db05858b8",
       "style": "IPY_MODEL_4d6cf7636cbe4ccc9d48b0ef55c72e93",
       "value": "100%"
      }
     },
     "188286f7468847749cb7a696ad90a85a": {
      "model_module": "@jupyter-widgets/controls",
      "model_module_version": "2.0.0",
      "model_name": "HBoxModel",
      "state": {
       "children": [
        "IPY_MODEL_2dbe6012289547729eebc1d9cb57ece8",
        "IPY_MODEL_e2e8b2963af84b019a0b2d51109bce28",
        "IPY_MODEL_f7eaf7a4375d495e87038726659cdce3"
       ],
       "layout": "IPY_MODEL_1febefe4c1bd43af9a5f8954e0b23e76"
      }
     },
     "1a18828761ed40048ff750e721e4bb14": {
      "model_module": "@jupyter-widgets/controls",
      "model_module_version": "2.0.0",
      "model_name": "ProgressStyleModel",
      "state": {
       "description_width": ""
      }
     },
     "1c5e484977cd4a91a0b9608a391197a0": {
      "model_module": "@jupyter-widgets/controls",
      "model_module_version": "2.0.0",
      "model_name": "HTMLStyleModel",
      "state": {
       "description_width": "",
       "font_size": null,
       "text_color": null
      }
     },
     "1f8161f19b394e018432f2fad1445bd0": {
      "model_module": "@jupyter-widgets/controls",
      "model_module_version": "2.0.0",
      "model_name": "HTMLModel",
      "state": {
       "layout": "IPY_MODEL_b5974ed4e2604225b4f6ba865a82a4f8",
       "style": "IPY_MODEL_dece688fed57483394cfa2e1cb502d77",
       "value": " 716552/716552 [00:25&lt;00:00, 28623.69it/s]"
      }
     },
     "1febefe4c1bd43af9a5f8954e0b23e76": {
      "model_module": "@jupyter-widgets/base",
      "model_module_version": "2.0.0",
      "model_name": "LayoutModel",
      "state": {}
     },
     "21490866ec91477488ed75e018524882": {
      "model_module": "@jupyter-widgets/base",
      "model_module_version": "2.0.0",
      "model_name": "LayoutModel",
      "state": {}
     },
     "22561de5cb704c6aa3d15e12f68fabaa": {
      "model_module": "@jupyter-widgets/controls",
      "model_module_version": "2.0.0",
      "model_name": "HTMLStyleModel",
      "state": {
       "description_width": "",
       "font_size": null,
       "text_color": null
      }
     },
     "26b80d0e99a5450bb756995312f382ba": {
      "model_module": "@jupyter-widgets/base",
      "model_module_version": "2.0.0",
      "model_name": "LayoutModel",
      "state": {}
     },
     "2dbe6012289547729eebc1d9cb57ece8": {
      "model_module": "@jupyter-widgets/controls",
      "model_module_version": "2.0.0",
      "model_name": "HTMLModel",
      "state": {
       "layout": "IPY_MODEL_a9ab5a98541a46838e11bd0ffc39d0bf",
       "style": "IPY_MODEL_d4efe8dd46e7444a90499371a8688bb1",
       "value": "100%"
      }
     },
     "3851ba75a55241c3b2ada449b66c595b": {
      "model_module": "@jupyter-widgets/controls",
      "model_module_version": "2.0.0",
      "model_name": "HTMLModel",
      "state": {
       "layout": "IPY_MODEL_3d6fca8a783d4b87bb9aac40d3ff64b4",
       "style": "IPY_MODEL_1c5e484977cd4a91a0b9608a391197a0",
       "value": "100%"
      }
     },
     "3be1c78fff7d46b9b1a8b473ba744c56": {
      "model_module": "@jupyter-widgets/controls",
      "model_module_version": "2.0.0",
      "model_name": "FloatProgressModel",
      "state": {
       "bar_style": "danger",
       "layout": "IPY_MODEL_7af7841af8b94448ba863bf1b44edfcd",
       "max": 200,
       "style": "IPY_MODEL_0a29f07878e6459ea23dc29e43bd8462"
      }
     },
     "3d6fca8a783d4b87bb9aac40d3ff64b4": {
      "model_module": "@jupyter-widgets/base",
      "model_module_version": "2.0.0",
      "model_name": "LayoutModel",
      "state": {}
     },
     "4081678c08134dbd9d4a47fe165152ba": {
      "model_module": "@jupyter-widgets/controls",
      "model_module_version": "2.0.0",
      "model_name": "ProgressStyleModel",
      "state": {
       "description_width": ""
      }
     },
     "40cb8c609f2a4d029796a00cacd29e86": {
      "model_module": "@jupyter-widgets/controls",
      "model_module_version": "2.0.0",
      "model_name": "HTMLModel",
      "state": {
       "layout": "IPY_MODEL_0691597e86f4485cb5c68b9b2070a852",
       "style": "IPY_MODEL_22561de5cb704c6aa3d15e12f68fabaa",
       "value": " 784742/784742 [00:03&lt;00:00, 252218.40it/s]"
      }
     },
     "4d6cf7636cbe4ccc9d48b0ef55c72e93": {
      "model_module": "@jupyter-widgets/controls",
      "model_module_version": "2.0.0",
      "model_name": "HTMLStyleModel",
      "state": {
       "description_width": "",
       "font_size": null,
       "text_color": null
      }
     },
     "52b5e3185dd349caa8fceab47c5de53f": {
      "model_module": "@jupyter-widgets/controls",
      "model_module_version": "2.0.0",
      "model_name": "ProgressStyleModel",
      "state": {
       "description_width": ""
      }
     },
     "5bfb0627885a4b1996a48cc99222d13f": {
      "model_module": "@jupyter-widgets/controls",
      "model_module_version": "2.0.0",
      "model_name": "HTMLStyleModel",
      "state": {
       "description_width": "",
       "font_size": null,
       "text_color": null
      }
     },
     "5c6d95f5b6a04cc696f9214cca66f145": {
      "model_module": "@jupyter-widgets/base",
      "model_module_version": "2.0.0",
      "model_name": "LayoutModel",
      "state": {}
     },
     "611bbf2bb9e342a08488538eb78803f9": {
      "model_module": "@jupyter-widgets/controls",
      "model_module_version": "2.0.0",
      "model_name": "HBoxModel",
      "state": {
       "children": [
        "IPY_MODEL_ec1ac9cde4fa4a53b554c7dcc9df7600",
        "IPY_MODEL_d771941872ff48e89c0a01202866a151",
        "IPY_MODEL_40cb8c609f2a4d029796a00cacd29e86"
       ],
       "layout": "IPY_MODEL_aff46aedc7424f0388866d68e7346f90"
      }
     },
     "615a574c17c647928448c3a0d468dd2a": {
      "model_module": "@jupyter-widgets/controls",
      "model_module_version": "2.0.0",
      "model_name": "ProgressStyleModel",
      "state": {
       "description_width": ""
      }
     },
     "6bcb49aa10ac410ea6e5f07f027c6557": {
      "model_module": "@jupyter-widgets/controls",
      "model_module_version": "2.0.0",
      "model_name": "FloatProgressModel",
      "state": {
       "bar_style": "success",
       "layout": "IPY_MODEL_ed72556efd964f40ab341532aeb5cb63",
       "max": 716552,
       "style": "IPY_MODEL_4081678c08134dbd9d4a47fe165152ba",
       "value": 716552
      }
     },
     "6ec72d0dc7d64cab98979ca7d8226204": {
      "model_module": "@jupyter-widgets/base",
      "model_module_version": "2.0.0",
      "model_name": "LayoutModel",
      "state": {}
     },
     "7af7841af8b94448ba863bf1b44edfcd": {
      "model_module": "@jupyter-widgets/base",
      "model_module_version": "2.0.0",
      "model_name": "LayoutModel",
      "state": {}
     },
     "7b4ec4570a9342679712cbc925a54d49": {
      "model_module": "@jupyter-widgets/controls",
      "model_module_version": "2.0.0",
      "model_name": "HTMLStyleModel",
      "state": {
       "description_width": "",
       "font_size": null,
       "text_color": null
      }
     },
     "8440f2d91c1640599c9acc392a68995c": {
      "model_module": "@jupyter-widgets/controls",
      "model_module_version": "2.0.0",
      "model_name": "HTMLStyleModel",
      "state": {
       "description_width": "",
       "font_size": null,
       "text_color": null
      }
     },
     "896ca341a0214ecfae1d896606461da2": {
      "model_module": "@jupyter-widgets/controls",
      "model_module_version": "2.0.0",
      "model_name": "HBoxModel",
      "state": {
       "children": [
        "IPY_MODEL_14093f679d3b48558eb888d408a683c9",
        "IPY_MODEL_6bcb49aa10ac410ea6e5f07f027c6557",
        "IPY_MODEL_edb60808ba6c4b8ea6beb242498e387c"
       ],
       "layout": "IPY_MODEL_f0d38beb41d84abdb6acde95617c29a0"
      }
     },
     "8b14c665d970475981245326d76098e3": {
      "model_module": "@jupyter-widgets/base",
      "model_module_version": "2.0.0",
      "model_name": "LayoutModel",
      "state": {}
     },
     "8c7bb3fc97df48a29d81987fb4055778": {
      "model_module": "@jupyter-widgets/base",
      "model_module_version": "2.0.0",
      "model_name": "LayoutModel",
      "state": {}
     },
     "a9ab5a98541a46838e11bd0ffc39d0bf": {
      "model_module": "@jupyter-widgets/base",
      "model_module_version": "2.0.0",
      "model_name": "LayoutModel",
      "state": {}
     },
     "aff46aedc7424f0388866d68e7346f90": {
      "model_module": "@jupyter-widgets/base",
      "model_module_version": "2.0.0",
      "model_name": "LayoutModel",
      "state": {}
     },
     "b5974ed4e2604225b4f6ba865a82a4f8": {
      "model_module": "@jupyter-widgets/base",
      "model_module_version": "2.0.0",
      "model_name": "LayoutModel",
      "state": {}
     },
     "b60183230e9f4be9b4a1abfc8722225c": {
      "model_module": "@jupyter-widgets/controls",
      "model_module_version": "2.0.0",
      "model_name": "HTMLStyleModel",
      "state": {
       "description_width": "",
       "font_size": null,
       "text_color": null
      }
     },
     "b7f594ea10b44116b4a4f1083a1a9dc4": {
      "model_module": "@jupyter-widgets/controls",
      "model_module_version": "2.0.0",
      "model_name": "HTMLStyleModel",
      "state": {
       "description_width": "",
       "font_size": null,
       "text_color": null
      }
     },
     "b97b1c97c83e472c8d64ea020a4c917b": {
      "model_module": "@jupyter-widgets/base",
      "model_module_version": "2.0.0",
      "model_name": "LayoutModel",
      "state": {}
     },
     "d004f693c2ee43d582d99e1db05858b8": {
      "model_module": "@jupyter-widgets/base",
      "model_module_version": "2.0.0",
      "model_name": "LayoutModel",
      "state": {}
     },
     "d18527046b584705a6e859011f26b816": {
      "model_module": "@jupyter-widgets/controls",
      "model_module_version": "2.0.0",
      "model_name": "FloatProgressModel",
      "state": {
       "bar_style": "success",
       "layout": "IPY_MODEL_f644d8b95a1848789124a4b14317789f",
       "max": 716552,
       "style": "IPY_MODEL_615a574c17c647928448c3a0d468dd2a",
       "value": 716552
      }
     },
     "d4efe8dd46e7444a90499371a8688bb1": {
      "model_module": "@jupyter-widgets/controls",
      "model_module_version": "2.0.0",
      "model_name": "HTMLStyleModel",
      "state": {
       "description_width": "",
       "font_size": null,
       "text_color": null
      }
     },
     "d771941872ff48e89c0a01202866a151": {
      "model_module": "@jupyter-widgets/controls",
      "model_module_version": "2.0.0",
      "model_name": "FloatProgressModel",
      "state": {
       "bar_style": "success",
       "layout": "IPY_MODEL_8c7bb3fc97df48a29d81987fb4055778",
       "max": 784742,
       "style": "IPY_MODEL_52b5e3185dd349caa8fceab47c5de53f",
       "value": 784742
      }
     },
     "d89ff430715c40c4a9f00871eaea3bd9": {
      "model_module": "@jupyter-widgets/controls",
      "model_module_version": "2.0.0",
      "model_name": "HBoxModel",
      "state": {
       "children": [
        "IPY_MODEL_11b7ae3e7acf4141b4bb6ac5355de3b1",
        "IPY_MODEL_3be1c78fff7d46b9b1a8b473ba744c56",
        "IPY_MODEL_13bcc0e932554871a4a51ce6958fcbcd"
       ],
       "layout": "IPY_MODEL_f924882ebf9147c598b6136fcb220ac0"
      }
     },
     "dece688fed57483394cfa2e1cb502d77": {
      "model_module": "@jupyter-widgets/controls",
      "model_module_version": "2.0.0",
      "model_name": "HTMLStyleModel",
      "state": {
       "description_width": "",
       "font_size": null,
       "text_color": null
      }
     },
     "e2e8b2963af84b019a0b2d51109bce28": {
      "model_module": "@jupyter-widgets/controls",
      "model_module_version": "2.0.0",
      "model_name": "FloatProgressModel",
      "state": {
       "bar_style": "success",
       "layout": "IPY_MODEL_8b14c665d970475981245326d76098e3",
       "max": 784742,
       "style": "IPY_MODEL_1a18828761ed40048ff750e721e4bb14",
       "value": 784742
      }
     },
     "e4cd93f46b6c4f889b579c2c54b30ebd": {
      "model_module": "@jupyter-widgets/base",
      "model_module_version": "2.0.0",
      "model_name": "LayoutModel",
      "state": {}
     },
     "ea1c307b4cc04f7c88ccf33c698bf6c2": {
      "model_module": "@jupyter-widgets/controls",
      "model_module_version": "2.0.0",
      "model_name": "HBoxModel",
      "state": {
       "children": [
        "IPY_MODEL_3851ba75a55241c3b2ada449b66c595b",
        "IPY_MODEL_d18527046b584705a6e859011f26b816",
        "IPY_MODEL_1f8161f19b394e018432f2fad1445bd0"
       ],
       "layout": "IPY_MODEL_21490866ec91477488ed75e018524882"
      }
     },
     "ec1ac9cde4fa4a53b554c7dcc9df7600": {
      "model_module": "@jupyter-widgets/controls",
      "model_module_version": "2.0.0",
      "model_name": "HTMLModel",
      "state": {
       "layout": "IPY_MODEL_26b80d0e99a5450bb756995312f382ba",
       "style": "IPY_MODEL_7b4ec4570a9342679712cbc925a54d49",
       "value": "100%"
      }
     },
     "ed72556efd964f40ab341532aeb5cb63": {
      "model_module": "@jupyter-widgets/base",
      "model_module_version": "2.0.0",
      "model_name": "LayoutModel",
      "state": {}
     },
     "edb60808ba6c4b8ea6beb242498e387c": {
      "model_module": "@jupyter-widgets/controls",
      "model_module_version": "2.0.0",
      "model_name": "HTMLModel",
      "state": {
       "layout": "IPY_MODEL_6ec72d0dc7d64cab98979ca7d8226204",
       "style": "IPY_MODEL_5bfb0627885a4b1996a48cc99222d13f",
       "value": " 716552/716552 [00:02&lt;00:00, 256941.49it/s]"
      }
     },
     "f0d38beb41d84abdb6acde95617c29a0": {
      "model_module": "@jupyter-widgets/base",
      "model_module_version": "2.0.0",
      "model_name": "LayoutModel",
      "state": {}
     },
     "f644d8b95a1848789124a4b14317789f": {
      "model_module": "@jupyter-widgets/base",
      "model_module_version": "2.0.0",
      "model_name": "LayoutModel",
      "state": {}
     },
     "f7eaf7a4375d495e87038726659cdce3": {
      "model_module": "@jupyter-widgets/controls",
      "model_module_version": "2.0.0",
      "model_name": "HTMLModel",
      "state": {
       "layout": "IPY_MODEL_b97b1c97c83e472c8d64ea020a4c917b",
       "style": "IPY_MODEL_8440f2d91c1640599c9acc392a68995c",
       "value": " 784742/784742 [00:25&lt;00:00, 30657.18it/s]"
      }
     },
     "f924882ebf9147c598b6136fcb220ac0": {
      "model_module": "@jupyter-widgets/base",
      "model_module_version": "2.0.0",
      "model_name": "LayoutModel",
      "state": {}
     }
    },
    "version_major": 2,
    "version_minor": 0
   }
  }
 },
 "nbformat": 4,
 "nbformat_minor": 4
}
